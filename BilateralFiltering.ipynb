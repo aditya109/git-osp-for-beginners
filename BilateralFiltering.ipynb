{
 "cells": [
  {
   "cell_type": "code",
   "execution_count": 7,
   "metadata": {},
   "outputs": [
    {
     "data": {
      "text/plain": [
       "True"
      ]
     },
     "execution_count": 7,
     "metadata": {},
     "output_type": "execute_result"
    }
   ],
   "source": [
    "import cv2 \n",
    "  \n",
    "# Read the image. \n",
    "img = cv2.imread('D:/IRDE/frame.jpg') \n",
    "  \n",
    "# Apply bilateral filter with d = 15,  \n",
    "# sigmaColor = sigmaSpace = 75. \n",
    "bilateral = cv2.bilateralFilter(img, 20, 125, 125) \n",
    "  \n",
    "# Save the output. \n",
    "cv2.imwrite('D:/IRDE/frame_bilateral.jpg', bilateral) "
   ]
  },
  {
   "cell_type": "code",
   "execution_count": 9,
   "metadata": {},
   "outputs": [],
   "source": []
  },
  {
   "cell_type": "code",
   "execution_count": null,
   "metadata": {},
   "outputs": [],
   "source": []
  }
 ],
 "metadata": {
  "kernelspec": {
   "display_name": "Python 3",
   "language": "python",
   "name": "python3"
  },
  "language_info": {
   "codemirror_mode": {
    "name": "ipython",
    "version": 3
   },
   "file_extension": ".py",
   "mimetype": "text/x-python",
   "name": "python",
   "nbconvert_exporter": "python",
   "pygments_lexer": "ipython3",
   "version": "3.7.6"
  }
 },
 "nbformat": 4,
 "nbformat_minor": 4
}
